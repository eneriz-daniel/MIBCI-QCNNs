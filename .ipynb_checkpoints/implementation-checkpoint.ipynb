{
 "cells": [
  {
   "cell_type": "markdown",
   "metadata": {},
   "source": [
    "# MIBCI-QCNNs: Implementation\n",
    "\n",
    "This notebooks automates the simulation and synthesis of the EEGNet-based model HLS design. This design is based on the files with the format `MIBCI-QCNN-X-template.txt` saved in the root directory of the repo. These are the parametriced templates that can be readed from Python and the writed into a `.cpp` (or `.h` it its the header file), forming the followinf files:\n",
    "\n",
    "- `MIBCI-QCNN.cpp`\n",
    "- `MIBCI-QCNN.h`\n",
    "- `MIBCI-QCNN-tb.cpp`\n",
    "\n",
    "The first one, `MIBCI-QCNN.cpp`  is the file with the algorithmic description of the hardware to systhentize with HLS and then to implement in the FPGA. After the declaration of the activation functions, LeakyReLU and Softmax, there is the top function, MIBCI_QCNN in which the C++ impementation of the model is contained.\n",
    "\n",
    "The header file, `MIBCI-QCNN.h`, contains the parameters of the dataset (time window, dowsampling, number of classes, number of channels, sampling frecuency...), the architecure paramenters (kernels' sizes, number of filters, LReLU alphas...) and the fixed-point datatype description, which in this case is <16,8>, since it showed the best balance in the number of bits and the accuracy drop.\n",
    "\n",
    "Finally, the test bench `MIBCI-QCNN-tb.cpp`. It is created to load both the model parameters and the input samples from `.npy` files and validate the model implemented in C++ for the entire dataset. As outputs, it writes a `y_hls_16_8.txt` for each fold, containig the model's output of the validation set of that fold.\n",
    "\n",
    "## Prepare the model to be implemented\n",
    "\n",
    "Before running the HLS simualtion, the folder of each model's fold must have an `npyparams` folder containing its pararmeters and another folder called `valdiationDS` with the validation set of the fold, with the inputs (`X.npy`) explited per index, `X_i-npy`. All of this is automated in the [`createnpys.py` `utils` file](utils/createnpys.py)."
   ]
  },
  {
   "cell_type": "code",
   "execution_count": 1,
   "metadata": {},
   "outputs": [],
   "source": [
    "from utils.createnpys import createnpys"
   ]
  },
  {
   "cell_type": "markdown",
   "metadata": {},
   "source": [
    "In this case we are going to validate and synthetize the global model trianed with the [`training.ipynb`](training.ipynb) notebook, that its stored in the `global_model` folder.\n",
    "\n",
    "> It needs to load the model to read its paramters. If you have another process using the GPU (if you have one) it will probably raise an error saying CUDA run out of memory."
   ]
  },
  {
   "cell_type": "code",
   "execution_count": 3,
   "metadata": {},
   "outputs": [
    {
     "name": "stdout",
     "output_type": "stream",
     "text": [
      "PROCESSING FOLD 1/5\n",
      "0.6689342403628118\n",
      "PROCESSING FOLD 2/5\n",
      "0.6587301587301587\n",
      "PROCESSING FOLD 3/5\n",
      "0.6901927437641724\n",
      "PROCESSING FOLD 4/5\n",
      "0.6252834467120182\n",
      "PROCESSING FOLD 5/5\n",
      "0.6040249433106576\n"
     ]
    }
   ],
   "source": [
    "createnpys('global_model/')"
   ]
  },
  {
   "cell_type": "markdown",
   "metadata": {},
   "source": [
    "## HLS C simulation of the model\n",
    "\n",
    "Since fixed-point datatypes are used to represent the model inputs, interal values, feature maps, paramters and outputs, it is expected to have an accuracy drop between the model implemented in Keras and the its HLS version. To check the output of all the dataset must be acquired using HLS, carefully chosing the model for each sample, since we only want to acquired the valdiation accuracy.\n",
    "\n",
    "This process is launched using the `launch_csim` function in the [`utils/hls_tools.py`](utils/hls_tools.py) file. It writes the `MIBCI-QCNN.cpp`, `MIBCI-QCNN.h`, and `MIBCI-QCNN-tb.cpp` files with the selected dataset parameters and also the `csim-launcher-template.txt` that is the TCL file that sets up the HLS project, selecting the `xc7z010-clg400-1` part, adding the source and testbench files and luanching the HLS C simulation.\n",
    "\n",
    "> Warning! This function must be called from a Vivado HLS-enabled bash, which can be activated using the command:\n",
    "```bash\n",
    "source /path/to/Vivado/installation/settings64.sh\n",
    "```\n",
    "To use this function inside of a Jupyter notebook like this one, just run this command before lanching the Jupyter server.\n",
    "\n",
    "\n",
    "> Warning! To reduce the simulation time 5 process are launched in background, one for each fold. This is done with the `screen` command of Ubuntu. If you aren't on a Linux computer or you don't have at least 5 kernels, you have to use the `launch_csim_noparallel` function. Just comment the next cell and discomment the following one."
   ]
  },
  {
   "cell_type": "code",
   "execution_count": 2,
   "metadata": {},
   "outputs": [],
   "source": [
    "from utils.hls_tools import launch_csim\n",
    "\n",
    "launch_csim('/home/daniel/BCI/XOH21/global_model/', T=3, ds=2, Nchans=64, Nclasses=4)"
   ]
  },
  {
   "cell_type": "code",
   "execution_count": 10,
   "metadata": {},
   "outputs": [],
   "source": [
    "#from utils.hls_tools import launch_csim_noparallel\n",
    "\n",
    "#launch_csim_noparallel('/home/daniel/BCI/XOH21/global_model/', T=3, ds=2, Nchans=64, Nclasses=4)"
   ]
  },
  {
   "cell_type": "code",
   "execution_count": null,
   "metadata": {},
   "outputs": [],
   "source": []
  },
  {
   "cell_type": "code",
   "execution_count": 11,
   "metadata": {},
   "outputs": [
    {
     "data": {
      "text/plain": [
       "32512"
      ]
     },
     "execution_count": 11,
     "metadata": {},
     "output_type": "execute_result"
    }
   ],
   "source": [
    "os.system('source /tools/Xilinx/Vivado/2020.1/settings64.sh && vivado_hls csim-launcher.tcl')"
   ]
  },
  {
   "cell_type": "code",
   "execution_count": 12,
   "metadata": {},
   "outputs": [
    {
     "name": "stdout",
     "output_type": "stream",
     "text": [
      "\n",
      "****** Vivado(TM) HLS - High-Level Synthesis from C, C++ and SystemC v2020.1 (64-bit)\n",
      "  **** SW Build 2902540 on Wed May 27 19:54:35 MDT 2020\n",
      "  **** IP Build 2902112 on Wed May 27 22:43:36 MDT 2020\n",
      "    ** Copyright 1986-2020 Xilinx, Inc. All Rights Reserved.\n",
      "\n",
      "source /tools/Xilinx/Vivado/2020.1/scripts/vivado_hls/hls.tcl -notrace\n",
      "INFO: [HLS 200-10] Running '/tools/Xilinx/Vivado/2020.1/bin/unwrapped/lnx64.o/vivado_hls'\n",
      "INFO: [HLS 200-10] For user 'daniel' on host 'daniel-B450M-DS3H' (Linux_x86_64 version 5.8.0-55-generic) on Thu Jun 24 14:38:40 CEST 2021\n",
      "INFO: [HLS 200-10] On os Ubuntu 20.04.2 LTS\n",
      "INFO: [HLS 200-10] In directory '/home/daniel/BCI/XOH21'\n",
      "Sourcing Tcl script 'csim-launcher.tcl'\n",
      "INFO: [HLS 200-10] Creating and opening project '/home/daniel/BCI/XOH21/MI-QCNN-project-0-5'.\n",
      "INFO: [HLS 200-10] Adding design file 'MIBCI-QCNN.cpp' to the project\n",
      "INFO: [HLS 200-10] Adding test bench file 'MIBCI-QCNN-tb.cpp' to the project\n",
      "INFO: [HLS 200-10] Creating and opening solution '/home/daniel/BCI/XOH21/MI-QCNN-project-0-5/solution1'.\n",
      "INFO: [HLS 200-10] Cleaning up the solution database.\n",
      "INFO: [HLS 200-10] Setting target device to 'xc7z010-clg400-1'\n",
      "INFO: [SYN 201-201] Setting up clock 'default' with a period of 10ns.\n",
      "INFO: [SIM 211-2] *************** CSIM start ***************\n",
      "INFO: [SIM 211-4] CSIM will launch GCC as the compiler.\n",
      "   Compiling ../../../../MIBCI-QCNN-tb.cpp in debug mode\n",
      "   Compiling ../../../../MIBCI-QCNN.cpp in debug mode\n",
      "   Generating csim.exe\n",
      "Fold 1/5 | Sample 1/3528...OK\n",
      "Fold 1/5 | Sample 2/3528...OK\n",
      "Fold 1/5 | Sample 3/3528...OK\n",
      "Fold 1/5 | Sample 4/3528...OK\n",
      "Fold 1/5 | Sample 5/3528...OK\n",
      "^C\n"
     ]
    }
   ],
   "source": [
    "! source /tools/Xilinx/Vivado/2020.1/settings64.sh && vivado_hls csim-launcher.tcl"
   ]
  },
  {
   "cell_type": "code",
   "execution_count": null,
   "metadata": {},
   "outputs": [],
   "source": []
  }
 ],
 "metadata": {
  "interpreter": {
   "hash": "f9d708a09b94be6d5abc55c95c701887c162cfb455e8921f9a53e0f8fb07dc0f"
  },
  "kernelspec": {
   "display_name": "Python 3",
   "language": "python",
   "name": "python3"
  },
  "language_info": {
   "codemirror_mode": {
    "name": "ipython",
    "version": 3
   },
   "file_extension": ".py",
   "mimetype": "text/x-python",
   "name": "python",
   "nbconvert_exporter": "python",
   "pygments_lexer": "ipython3",
   "version": "3.8.5"
  }
 },
 "nbformat": 4,
 "nbformat_minor": 2
}
